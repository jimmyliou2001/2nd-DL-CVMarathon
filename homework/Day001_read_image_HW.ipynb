{
 "cells": [
  {
   "cell_type": "code",
   "execution_count": 2,
   "metadata": {},
   "outputs": [],
   "source": [
    "import cv2\n",
    "img1 = cv2.imread('C:\\\\Users\\\\jimmyliou\\\\Documents\\\\Desktop\\\\lena.png', cv2.IMREAD_COLOR)\n",
    "img2 = cv2.imread('C:\\\\Users\\\\jimmyliou\\\\Documents\\\\Desktop\\\\lena.png', cv2.IMREAD_GRAYSCALE)\n",
    "cv2.imshow('rgb',img1)\n",
    "cv2.imshow('grey',img2)\n",
    "cv2.waitKey(0)\n",
    "cv2.destroyAllWindows()"
   ]
  },
  {
   "cell_type": "code",
   "execution_count": null,
   "metadata": {},
   "outputs": [],
   "source": []
  }
 ],
 "metadata": {
  "kernelspec": {
   "display_name": "Python 3",
   "language": "python",
   "name": "python3"
  },
  "language_info": {
   "codemirror_mode": {
    "name": "ipython",
    "version": 3
   },
   "file_extension": ".py",
   "mimetype": "text/x-python",
   "name": "python",
   "nbconvert_exporter": "python",
   "pygments_lexer": "ipython3",
   "version": "3.7.1"
  }
 },
 "nbformat": 4,
 "nbformat_minor": 2
}
